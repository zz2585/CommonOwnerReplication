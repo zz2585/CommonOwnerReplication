{
  "nbformat": 4,
  "nbformat_minor": 0,
  "metadata": {
    "colab": {
      "name": "Amihud 2002.ipynb",
      "provenance": [],
      "authorship_tag": "ABX9TyPH8c43pokrRPjDMgM+z1Rx",
      "include_colab_link": true
    },
    "kernelspec": {
      "name": "python3",
      "display_name": "Python 3"
    },
    "language_info": {
      "name": "python"
    }
  },
  "cells": [
    {
      "cell_type": "markdown",
      "metadata": {
        "id": "view-in-github",
        "colab_type": "text"
      },
      "source": [
        "<a href=\"https://colab.research.google.com/github/zz2585/CommonOwnerReplication/blob/master/Amihud_2002.ipynb\" target=\"_parent\"><img src=\"https://colab.research.google.com/assets/colab-badge.svg\" alt=\"Open In Colab\"/></a>"
      ]
    },
    {
      "cell_type": "code",
      "metadata": {
        "id": "RXODkvNf4BA8"
      },
      "source": [
        "# The paper examines return-illiquidity relationship over time. \n",
        "# Over time, ex ante stock excess return is increasing in the expected illiquidity of the stock market \n",
        "# Illiquidity ratio: ILLIQ defined as the daily ratio of absolute stock return to dollar volume, average over xx days \n",
        "# The ratio gives the daily price impact of the order flow \n",
        "# consider verify the findings using spreads and PIN "
      ],
      "execution_count": null,
      "outputs": []
    },
    {
      "cell_type": "markdown",
      "metadata": {
        "id": "jk-rc-UeYULB"
      },
      "source": [
        "\\begin{align}\n",
        "ILLILQ_{iy} = \\frac{1}{D_{iy}}*\\sum \\limits_{t=1}^{D_{iy}} \\frac{\\mid{R_{iyd}}\\mid}{VOLD_{ivyd}}\n",
        "\\end{align}\n",
        "\n",
        "where $D_{iy}$ is the number of trading days for stock $i$ in year $y$."
      ]
    },
    {
      "cell_type": "code",
      "metadata": {
        "colab": {
          "base_uri": "https://localhost:8080/"
        },
        "id": "EyYmvN4vZX67",
        "outputId": "95df851f-4c74-4315-c0e4-ff1f578302e2"
      },
      "source": [
        "import pandas as pd\n",
        "import numpy as np\n",
        "import wrds\n",
        "from appelpy.linear_model import OLS\n"
      ],
      "execution_count": null,
      "outputs": [
        {
          "output_type": "stream",
          "text": [
            "/usr/local/lib/python3.7/dist-packages/statsmodels/tools/_testing.py:19: FutureWarning: pandas.util.testing is deprecated. Use the functions in the public API at pandas.testing instead.\n",
            "  import pandas.util.testing as tm\n"
          ],
          "name": "stderr"
        }
      ]
    },
    {
      "cell_type": "code",
      "metadata": {
        "colab": {
          "base_uri": "https://localhost:8080/"
        },
        "id": "d4TySJju-eVv",
        "outputId": "8b450c86-ae45-4de6-878a-27dc421938b0"
      },
      "source": [
        "!pip install appelpy "
      ],
      "execution_count": null,
      "outputs": [
        {
          "output_type": "stream",
          "text": [
            "Collecting appelpy\n",
            "  Downloading https://files.pythonhosted.org/packages/0a/58/ee586ae485138fadddc798aca51e30375538c080dbf814bbfb227c419ffd/appelpy-0.4.2-py3-none-any.whl\n",
            "Requirement already satisfied: seaborn>=0.9 in /usr/local/lib/python3.7/dist-packages (from appelpy) (0.11.1)\n",
            "Requirement already satisfied: jinja2 in /usr/local/lib/python3.7/dist-packages (from appelpy) (2.11.3)\n",
            "Requirement already satisfied: statsmodels>=0.9 in /usr/local/lib/python3.7/dist-packages (from appelpy) (0.10.2)\n",
            "Requirement already satisfied: pandas>=0.24 in /usr/local/lib/python3.7/dist-packages (from appelpy) (1.1.5)\n",
            "Requirement already satisfied: patsy in /usr/local/lib/python3.7/dist-packages (from appelpy) (0.5.1)\n",
            "Requirement already satisfied: scipy in /usr/local/lib/python3.7/dist-packages (from appelpy) (1.4.1)\n",
            "Requirement already satisfied: matplotlib>=3 in /usr/local/lib/python3.7/dist-packages (from appelpy) (3.2.2)\n",
            "Requirement already satisfied: numpy>=1.16 in /usr/local/lib/python3.7/dist-packages (from appelpy) (1.19.5)\n",
            "Requirement already satisfied: MarkupSafe>=0.23 in /usr/local/lib/python3.7/dist-packages (from jinja2->appelpy) (2.0.1)\n",
            "Requirement already satisfied: pytz>=2017.2 in /usr/local/lib/python3.7/dist-packages (from pandas>=0.24->appelpy) (2018.9)\n",
            "Requirement already satisfied: python-dateutil>=2.7.3 in /usr/local/lib/python3.7/dist-packages (from pandas>=0.24->appelpy) (2.8.1)\n",
            "Requirement already satisfied: six in /usr/local/lib/python3.7/dist-packages (from patsy->appelpy) (1.15.0)\n",
            "Requirement already satisfied: kiwisolver>=1.0.1 in /usr/local/lib/python3.7/dist-packages (from matplotlib>=3->appelpy) (1.3.1)\n",
            "Requirement already satisfied: pyparsing!=2.0.4,!=2.1.2,!=2.1.6,>=2.0.1 in /usr/local/lib/python3.7/dist-packages (from matplotlib>=3->appelpy) (2.4.7)\n",
            "Requirement already satisfied: cycler>=0.10 in /usr/local/lib/python3.7/dist-packages (from matplotlib>=3->appelpy) (0.10.0)\n",
            "Installing collected packages: appelpy\n",
            "Successfully installed appelpy-0.4.2\n"
          ],
          "name": "stdout"
        }
      ]
    },
    {
      "cell_type": "code",
      "metadata": {
        "colab": {
          "base_uri": "https://localhost:8080/"
        },
        "id": "b1fE0xmkecLl",
        "outputId": "d0bddd1a-b8db-42f2-bb4f-4c61fcdb9452"
      },
      "source": [
        "# sample period: 1963-1997 \n",
        "# sample: NYSE-traded stocks (i.e., EXCHCD==1 or 31)\n",
        "\n",
        "#connect to wrds \n",
        "conn=wrds.Connection()\n",
        "\n"
      ],
      "execution_count": null,
      "outputs": [
        {
          "output_type": "stream",
          "text": [
            "Enter your WRDS username [root]:zz2585\n",
            "Enter your password:··········\n",
            "WRDS recommends setting up a .pgpass file.\n",
            "You can find more info here:\n",
            "https://www.postgresql.org/docs/9.5/static/libpq-pgpass.html.\n",
            "Loading library list...\n",
            "Done\n"
          ],
          "name": "stdout"
        }
      ]
    },
    {
      "cell_type": "code",
      "metadata": {
        "id": "cv-oKQMQgo43"
      },
      "source": [
        "# get crsp monthly data\n",
        "crsp_m = conn.raw_sql(\"\"\"\n",
        "                      select a.permno, a.permco, a.date, b.shrcd, b.exchcd,\n",
        "                      a.ret, a.retx, a.shrout, a.prc, a.vol\n",
        "                      from crsp.msf as a\n",
        "                      left join crsp.msenames as b\n",
        "                      on a.permno=b.permno\n",
        "                      and b.namedt<=a.date\n",
        "                      and a.date<=b.nameendt\n",
        "                      where a.date between '01/01/1963' and '12/31/1997'\n",
        "                      and b.exchcd =1 or b.exchcd =31\n",
        "                      \"\"\", date_cols=['date']) \n",
        "\n",
        "\n",
        "# get delisting return\n",
        "dlret = conn.raw_sql(\"\"\"\n",
        "                     select permno, dlret, dlstdt, dlstcd\n",
        "                     from crsp.msedelist\n",
        "                     \"\"\", date_cols=['dlstdt'])\n"
      ],
      "execution_count": null,
      "outputs": []
    },
    {
      "cell_type": "code",
      "metadata": {
        "colab": {
          "base_uri": "https://localhost:8080/",
          "height": 317
        },
        "id": "LIS76LRuAiFp",
        "outputId": "41d2877b-ea40-4317-bc1e-8680ea5b8621"
      },
      "source": [
        "crsp.describe()"
      ],
      "execution_count": null,
      "outputs": [
        {
          "output_type": "execute_result",
          "data": {
            "text/html": [
              "<div>\n",
              "<style scoped>\n",
              "    .dataframe tbody tr th:only-of-type {\n",
              "        vertical-align: middle;\n",
              "    }\n",
              "\n",
              "    .dataframe tbody tr th {\n",
              "        vertical-align: top;\n",
              "    }\n",
              "\n",
              "    .dataframe thead th {\n",
              "        text-align: right;\n",
              "    }\n",
              "</style>\n",
              "<table border=\"1\" class=\"dataframe\">\n",
              "  <thead>\n",
              "    <tr style=\"text-align: right;\">\n",
              "      <th></th>\n",
              "      <th>permno</th>\n",
              "      <th>permco</th>\n",
              "      <th>shrcd</th>\n",
              "      <th>exchcd</th>\n",
              "      <th>ret</th>\n",
              "      <th>retx</th>\n",
              "      <th>shrout</th>\n",
              "      <th>prc</th>\n",
              "      <th>vol</th>\n",
              "      <th>dlret</th>\n",
              "      <th>dlstcd</th>\n",
              "      <th>retadj</th>\n",
              "      <th>ILLIQ</th>\n",
              "      <th>yr</th>\n",
              "      <th>key</th>\n",
              "    </tr>\n",
              "  </thead>\n",
              "  <tbody>\n",
              "    <tr>\n",
              "      <th>count</th>\n",
              "      <td>660990.000000</td>\n",
              "      <td>660990.000000</td>\n",
              "      <td>660990.000000</td>\n",
              "      <td>660990.000000</td>\n",
              "      <td>660990.000000</td>\n",
              "      <td>658877.000000</td>\n",
              "      <td>6.609900e+05</td>\n",
              "      <td>660990.000000</td>\n",
              "      <td>6.609900e+05</td>\n",
              "      <td>319.000000</td>\n",
              "      <td>325.000000</td>\n",
              "      <td>660990.000000</td>\n",
              "      <td>6.609900e+05</td>\n",
              "      <td>660990.000000</td>\n",
              "      <td>660990.000000</td>\n",
              "    </tr>\n",
              "    <tr>\n",
              "      <th>mean</th>\n",
              "      <td>41194.329541</td>\n",
              "      <td>20313.578299</td>\n",
              "      <td>12.720362</td>\n",
              "      <td>1.001589</td>\n",
              "      <td>0.012528</td>\n",
              "      <td>0.009616</td>\n",
              "      <td>3.208344e+04</td>\n",
              "      <td>29.933656</td>\n",
              "      <td>1.582012e+04</td>\n",
              "      <td>0.015079</td>\n",
              "      <td>265.818462</td>\n",
              "      <td>0.012518</td>\n",
              "      <td>9.004769e-06</td>\n",
              "      <td>1981.944123</td>\n",
              "      <td>43176.273664</td>\n",
              "    </tr>\n",
              "    <tr>\n",
              "      <th>std</th>\n",
              "      <td>21308.362148</td>\n",
              "      <td>6630.289444</td>\n",
              "      <td>8.627656</td>\n",
              "      <td>0.218296</td>\n",
              "      <td>0.110178</td>\n",
              "      <td>0.110489</td>\n",
              "      <td>7.991515e+04</td>\n",
              "      <td>281.348613</td>\n",
              "      <td>4.555754e+04</td>\n",
              "      <td>0.162957</td>\n",
              "      <td>99.842906</td>\n",
              "      <td>0.110184</td>\n",
              "      <td>4.505744e-04</td>\n",
              "      <td>10.242245</td>\n",
              "      <td>21313.968353</td>\n",
              "    </tr>\n",
              "    <tr>\n",
              "      <th>min</th>\n",
              "      <td>10006.000000</td>\n",
              "      <td>4.000000</td>\n",
              "      <td>10.000000</td>\n",
              "      <td>1.000000</td>\n",
              "      <td>-0.937500</td>\n",
              "      <td>-0.937500</td>\n",
              "      <td>0.000000e+00</td>\n",
              "      <td>0.015625</td>\n",
              "      <td>1.000000e+00</td>\n",
              "      <td>-1.000000</td>\n",
              "      <td>200.000000</td>\n",
              "      <td>-1.000000</td>\n",
              "      <td>0.000000e+00</td>\n",
              "      <td>1926.000000</td>\n",
              "      <td>11969.000000</td>\n",
              "    </tr>\n",
              "    <tr>\n",
              "      <th>25%</th>\n",
              "      <td>22787.000000</td>\n",
              "      <td>20549.000000</td>\n",
              "      <td>10.000000</td>\n",
              "      <td>1.000000</td>\n",
              "      <td>-0.042893</td>\n",
              "      <td>-0.046414</td>\n",
              "      <td>4.702000e+03</td>\n",
              "      <td>13.125000</td>\n",
              "      <td>9.310000e+02</td>\n",
              "      <td>-0.000262</td>\n",
              "      <td>231.000000</td>\n",
              "      <td>-0.042869</td>\n",
              "      <td>1.160560e-07</td>\n",
              "      <td>1973.000000</td>\n",
              "      <td>24763.000000</td>\n",
              "    </tr>\n",
              "    <tr>\n",
              "      <th>50%</th>\n",
              "      <td>39925.000000</td>\n",
              "      <td>21430.000000</td>\n",
              "      <td>11.000000</td>\n",
              "      <td>1.000000</td>\n",
              "      <td>0.006329</td>\n",
              "      <td>0.000000</td>\n",
              "      <td>1.122400e+04</td>\n",
              "      <td>22.250000</td>\n",
              "      <td>3.121000e+03</td>\n",
              "      <td>0.008065</td>\n",
              "      <td>231.000000</td>\n",
              "      <td>0.006329</td>\n",
              "      <td>6.647486e-07</td>\n",
              "      <td>1983.000000</td>\n",
              "      <td>41905.000000</td>\n",
              "    </tr>\n",
              "    <tr>\n",
              "      <th>75%</th>\n",
              "      <td>57665.000000</td>\n",
              "      <td>23126.000000</td>\n",
              "      <td>11.000000</td>\n",
              "      <td>1.000000</td>\n",
              "      <td>0.060606</td>\n",
              "      <td>0.057935</td>\n",
              "      <td>2.914000e+04</td>\n",
              "      <td>34.625000</td>\n",
              "      <td>1.161100e+04</td>\n",
              "      <td>0.028826</td>\n",
              "      <td>241.000000</td>\n",
              "      <td>0.060606</td>\n",
              "      <td>3.161549e-06</td>\n",
              "      <td>1991.000000</td>\n",
              "      <td>59658.750000</td>\n",
              "    </tr>\n",
              "    <tr>\n",
              "      <th>max</th>\n",
              "      <td>93201.000000</td>\n",
              "      <td>56285.000000</td>\n",
              "      <td>71.000000</td>\n",
              "      <td>31.000000</td>\n",
              "      <td>11.000000</td>\n",
              "      <td>11.000000</td>\n",
              "      <td>3.272726e+06</td>\n",
              "      <td>47200.000000</td>\n",
              "      <td>2.641605e+06</td>\n",
              "      <td>1.250000</td>\n",
              "      <td>588.000000</td>\n",
              "      <td>11.000000</td>\n",
              "      <td>2.666667e-01</td>\n",
              "      <td>1999.000000</td>\n",
              "      <td>95191.000000</td>\n",
              "    </tr>\n",
              "  </tbody>\n",
              "</table>\n",
              "</div>"
            ],
            "text/plain": [
              "              permno         permco  ...             yr            key\n",
              "count  660990.000000  660990.000000  ...  660990.000000  660990.000000\n",
              "mean    41194.329541   20313.578299  ...    1981.944123   43176.273664\n",
              "std     21308.362148    6630.289444  ...      10.242245   21313.968353\n",
              "min     10006.000000       4.000000  ...    1926.000000   11969.000000\n",
              "25%     22787.000000   20549.000000  ...    1973.000000   24763.000000\n",
              "50%     39925.000000   21430.000000  ...    1983.000000   41905.000000\n",
              "75%     57665.000000   23126.000000  ...    1991.000000   59658.750000\n",
              "max     93201.000000   56285.000000  ...    1999.000000   95191.000000\n",
              "\n",
              "[8 rows x 15 columns]"
            ]
          },
          "metadata": {
            "tags": []
          },
          "execution_count": 85
        }
      ]
    },
    {
      "cell_type": "code",
      "metadata": {
        "id": "HIPuYBG1rUrq"
      },
      "source": [
        "# change variable format to int\n",
        "crsp_m[['permco','permno','shrcd','exchcd']]=crsp_m[['permco','permno','shrcd','exchcd']].astype(int)\n",
        "\n",
        "# Line up date to be end of month\n",
        "crsp_m['jdate']=crsp_m['date']+pd.offsets.MonthEnd(0)\n",
        "\n",
        "dlret['dlstcd']=dlret['dlstcd'].astype(int)\n",
        "dlret['permno']=dlret['permno'].astype(int)\n",
        "dlret['dlstdt']=pd.to_datetime(dlret['dlstdt'])\n",
        "dlret['jdate']=dlret['dlstdt']+pd.offsets.MonthEnd(0) \n",
        "\n",
        "crsp = pd.merge(crsp_m, dlret, how='left',on=['permno','jdate'])\n",
        "\n",
        "crsp['ret']=crsp['ret'].fillna(0)\n"
      ],
      "execution_count": null,
      "outputs": []
    },
    {
      "cell_type": "code",
      "metadata": {
        "id": "NjpIaaXqHfi-"
      },
      "source": [
        "# adjust for delisting returns following Shumway(1997)\n",
        "crsp['retadj'] = np.where(crsp.dlstcd.isna(), crsp.ret, np.nan)\n",
        "crsp['retadj'] = np.where((crsp.dlstcd.notna())&(crsp.dlret.notna()), crsp.dlret, crsp['retadj'])\n",
        "crsp['retadj'] = np.where((crsp.dlstcd==500) | (crsp.dlstcd==520)| (crsp.dlstcd==580)| (crsp.dlstcd==584)|((crsp.dlstcd >= 551) & (crsp.dlstcd <= 574)), -0.3, crsp['retadj'])\n",
        "crsp['retadj'] = np.where(crsp['retadj'].isna(), -1, crsp['retadj'])\n"
      ],
      "execution_count": null,
      "outputs": []
    },
    {
      "cell_type": "code",
      "metadata": {
        "id": "PN8wWk0WhPGk"
      },
      "source": [
        "#to be deleted \n",
        "# retadj factors in the delisting returns\n",
        "crsp['retadj']=(1+crsp['ret'])*(1+crsp['dlret'])-1\n",
        "\n",
        "# calculate market equity\n",
        "crsp['me']=crsp['prc'].abs()*crsp['shrout'] \n",
        "crsp=crsp.drop(['dlret','dlstdt','prc','shrout'], axis=1)\n",
        "crsp=crsp.sort_values(by=['jdate','permco','me'])"
      ],
      "execution_count": null,
      "outputs": []
    },
    {
      "cell_type": "code",
      "metadata": {
        "id": "hUcYSsS5c2Li"
      },
      "source": [
        "# filter data based on several criteria\n",
        "\n",
        "# drop ADRs\n",
        "crsp = crsp[~((crsp.shrcd==30) | (crsp.shrcd==31))]\n",
        "\n",
        "# drop observations where vol is null\n",
        "crsp = crsp[(crsp['vol'] > 0)& (crsp['prc'] > 0)]\n",
        "\n",
        "# calculate Amihud ILLIQ measure\n",
        "crsp['ILLIQ'] = abs(crsp['ret']) / (crsp['prc'] * crsp['vol'])\n",
        "\n",
        "# (i) The stock has return and volume data for more than 200 days during year y. Also, the stock must be listed at the end of year y. \n",
        "# zip permno and delist year in both dataset to remove delist firms \n",
        "dlret['key'] = dlret['permno'] + dlret['dlstdt'].dt.year\n",
        "crsp['key'] = crsp['permno'] + crsp['date'].dt.year\n",
        "crsp_1 = crsp[~crsp.key.isin(dlret.key)].reset_index().drop(['jdate','dlret','dlstdt','dlstcd','index', 'key'],axis=1)\n",
        "\n",
        "# count CRSP daily observations\n",
        "crsp_d = conn.raw_sql(f\"\"\"\n",
        "                        select permno, date, prc, abs(prc*shrout) as mcap, ret from crsp.dsf\n",
        "                        where date between '01/01/1963' and '12/31/1997'\n",
        "                        \"\"\", date_cols = ['date'])\n",
        "\n",
        "\n",
        "crsp_1['yr'] = crsp_1['date'].dt.year\n",
        "obs = crsp_1.groupby(['yr', 'permno']).date.count().reset_index()\n",
        "\n",
        "\n",
        "# (ii) The stock price is greater than $5 at the end of year y.\n",
        "# (iii) The stock has data on market capitalization at the end of year y 􏰣 1 in the CRSP database. \n",
        "# (iv) Stock-year ILLIQ is winsorized at the 1% level \n"
      ],
      "execution_count": null,
      "outputs": []
    },
    {
      "cell_type": "code",
      "metadata": {
        "id": "rMTKWSiaNJIx"
      },
      "source": [
        "df_trading_days_200 = df_counts[df_counts['counts'] > 200][['year', 'PERMNO']].reset_index(drop=True)\n",
        "df_div_amihud = df_notnull.groupby(['year', 'PERMNO']).sum().reset_index()[['year', 'PERMNO', 'amihud_d', 'DIVAMT']]\n",
        "df_div_amihud['counts'] = df_notnull.groupby(['year', 'PERMNO']).size().reset_index(name='counts')['counts']\n",
        "df_div_amihud['sdret'] = df_notnull.groupby(['year', 'PERMNO']).std().reset_index()['RET'] * 100\n",
        "df_step1 = df_trading_days_200.merge(df_div_amihud, 'left', on=['year', 'PERMNO'])"
      ],
      "execution_count": null,
      "outputs": []
    }
  ]
}